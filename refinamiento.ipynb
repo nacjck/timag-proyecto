{
 "cells": [
  {
   "cell_type": "markdown",
   "id": "bd1aeb29-d602-43a9-afcc-36b68cabc6f7",
   "metadata": {},
   "source": [
    "**Sección 3.2. del artículo**"
   ]
  },
  {
   "cell_type": "code",
   "execution_count": null,
   "id": "1299ffa7-6a30-42f8-afca-a78311f20003",
   "metadata": {},
   "outputs": [],
   "source": [
    "import numpy as np\n",
    "from numpy.linalg import det, norm, eig"
   ]
  },
  {
   "cell_type": "code",
   "execution_count": null,
   "id": "d574ccd6-f950-457c-b4a2-6516e0fcf07f",
   "metadata": {},
   "outputs": [],
   "source": [
    "def calc_Cov_cluster(cluster_props):\n",
    "    \"\"\"\n",
    "    cluster_props: lista de objetos con propiedades de los M CC miembros del cluster\n",
    "    \"\"\"\n",
    "    c = np.sum( [cc.centroid for cc in cluster_props] )/len(cluster_props) # centroide del cluster\n",
    "    dist = []\n",
    "    for cc in cluster_props:\n",
    "        dist.append( np.dot(cc.coords, c) ) # el atributo coords tiene las coordenadas de los N pixeles negros del CC\n",
    "    dist = np.array(dist).flatten() # Vector de NxM distancias al centroide del cluster al cuadrado\n",
    "    return np.cov(dist)\n",
    "    \n",
    "def calc_Fv(clusters_cov):\n",
    "    \"\"\"\n",
    "    clusters_cov: lista de matrices de covarianza de los clusters\n",
    "    \"\"\"\n",
    "    s = np.array( [det(C) for C in clusters_cov] )\n",
    "    return np.sum( np.sqrt(s) )\n",
    "\n",
    "def total_straightness(clusters_cov):\n",
    "    \"\"\"\n",
    "    clusters_cov: lista de matrices de covarianza de los clusters\n",
    "    \"\"\"\n",
    "    Svm = 0\n",
    "    for C in clusters_cov:\n",
    "        ev, v = np.eig(C)\n",
    "        ev = np.sort(ev)\n",
    "        Svm += ev[-1]/ev[-2]\n",
    "        \n",
    "    return Svm\n",
    "    "
   ]
  }
 ],
 "metadata": {
  "kernelspec": {
   "display_name": "Python 3",
   "language": "python",
   "name": "python3"
  },
  "language_info": {
   "codemirror_mode": {
    "name": "ipython",
    "version": 3
   },
   "file_extension": ".py",
   "mimetype": "text/x-python",
   "name": "python",
   "nbconvert_exporter": "python",
   "pygments_lexer": "ipython3",
   "version": "3.8.11"
  }
 },
 "nbformat": 4,
 "nbformat_minor": 5
}
